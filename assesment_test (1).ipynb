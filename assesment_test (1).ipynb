{
  "nbformat": 4,
  "nbformat_minor": 0,
  "metadata": {
    "colab": {
      "provenance": []
    },
    "kernelspec": {
      "name": "python3",
      "display_name": "Python 3"
    },
    "language_info": {
      "name": "python"
    }
  },
  "cells": [
    {
      "cell_type": "markdown",
      "source": [
        "  data transformation and visualisation\n"
      ],
      "metadata": {
        "id": "ULeoAHRRLKlW"
      }
    },
    {
      "cell_type": "code",
      "execution_count": 1,
      "metadata": {
        "id": "2Tqv82FdJjwK"
      },
      "outputs": [],
      "source": [
        "# importing important libraries \n",
        "\n",
        "import pandas as pd\n",
        "import matplotlib.pyplot as plt\n",
        "import numpy\n",
        "import seaborn as sns\n",
        "from datetime import datetime \n",
        "import warnings\n",
        "warnings.filterwarnings('ignore')\n"
      ]
    },
    {
      "cell_type": "code",
      "source": [
        "data = pd.read_csv('/content/drive/MyDrive/Digital alpha/City_zhvi_uc_sfrcondo_tier_0.33_0.67_sm_sa_month.csv')  # ZHVI indexed dataset"
      ],
      "metadata": {
        "id": "zWgV51t4MliL"
      },
      "execution_count": 2,
      "outputs": []
    },
    {
      "cell_type": "code",
      "source": [
        "data.head()\n",
        "\n",
        "# by exploring the dataset it is clear that the dataset is talking about the month on month house price ZHVI index values\n",
        "# at diiferent cities , how the house prices are increasing or decreasing w.r.t the passing of time."
      ],
      "metadata": {
        "colab": {
          "base_uri": "https://localhost:8080/",
          "height": 629
        },
        "id": "K_IWYeFCMtZT",
        "outputId": "1bd3b4d6-40b9-43d1-e287-98f00d3af93b"
      },
      "execution_count": 3,
      "outputs": [
        {
          "output_type": "execute_result",
          "data": {
            "text/plain": [
              "   RegionID  SizeRank   RegionName RegionType StateName State  \\\n",
              "0      6181         0     New York       city        NY    NY   \n",
              "1     12447         1  Los Angeles       city        CA    CA   \n",
              "2     39051         2      Houston       city        TX    TX   \n",
              "3     17426         3      Chicago       city        IL    IL   \n",
              "4      6915         4  San Antonio       city        TX    TX   \n",
              "\n",
              "                                   Metro          CountyName     2000-01-31  \\\n",
              "0  New York-Newark-Jersey City, NY-NJ-PA       Queens County  130287.519134   \n",
              "1     Los Angeles-Long Beach-Anaheim, CA  Los Angeles County  205857.114461   \n",
              "2   Houston-The Woodlands-Sugar Land, TX       Harris County   95018.228813   \n",
              "3     Chicago-Naperville-Elgin, IL-IN-WI         Cook County  120726.865760   \n",
              "4          San Antonio-New Braunfels, TX        Bexar County   94902.736943   \n",
              "\n",
              "      2000-02-29  ...     2022-04-30     2022-05-31     2022-06-30  \\\n",
              "0  130986.454069  ...  624591.374167  632503.861776  639719.068154   \n",
              "1  206148.139291  ...  899748.915585  908394.728386  913205.457773   \n",
              "2   94992.795115  ...  247356.386226  251261.832612  254553.486054   \n",
              "3  120760.601509  ...  285561.872355  286410.068889  286004.342441   \n",
              "4   94991.755467  ...  250469.248807  254742.935336  258344.545768   \n",
              "\n",
              "      2022-07-31     2022-08-31     2022-09-30     2022-10-31     2022-11-30  \\\n",
              "0  644183.951334  645330.342375  642250.704367  639868.002388  636974.535334   \n",
              "1  915884.082386  913542.541439  909121.015865  904309.731512  901908.970409   \n",
              "2  256833.443059  257899.901884  258099.225384  258069.554808  258056.821868   \n",
              "3  284177.554780  281938.192950  279279.406615  277176.870186  276207.507874   \n",
              "4  260608.054991  261427.814664  261084.425131  260555.370376  260019.474525   \n",
              "\n",
              "      2022-12-31     2023-01-31  \n",
              "0  632470.800784  629516.303341  \n",
              "1  898585.043168  890194.164509  \n",
              "2  257327.171539  255921.337783  \n",
              "3  275203.052968  276299.085040  \n",
              "4  258902.543330  257774.984016  \n",
              "\n",
              "[5 rows x 285 columns]"
            ],
            "text/html": [
              "\n",
              "  <div id=\"df-18381746-7c16-4250-8df6-17bd65372475\">\n",
              "    <div class=\"colab-df-container\">\n",
              "      <div>\n",
              "<style scoped>\n",
              "    .dataframe tbody tr th:only-of-type {\n",
              "        vertical-align: middle;\n",
              "    }\n",
              "\n",
              "    .dataframe tbody tr th {\n",
              "        vertical-align: top;\n",
              "    }\n",
              "\n",
              "    .dataframe thead th {\n",
              "        text-align: right;\n",
              "    }\n",
              "</style>\n",
              "<table border=\"1\" class=\"dataframe\">\n",
              "  <thead>\n",
              "    <tr style=\"text-align: right;\">\n",
              "      <th></th>\n",
              "      <th>RegionID</th>\n",
              "      <th>SizeRank</th>\n",
              "      <th>RegionName</th>\n",
              "      <th>RegionType</th>\n",
              "      <th>StateName</th>\n",
              "      <th>State</th>\n",
              "      <th>Metro</th>\n",
              "      <th>CountyName</th>\n",
              "      <th>2000-01-31</th>\n",
              "      <th>2000-02-29</th>\n",
              "      <th>...</th>\n",
              "      <th>2022-04-30</th>\n",
              "      <th>2022-05-31</th>\n",
              "      <th>2022-06-30</th>\n",
              "      <th>2022-07-31</th>\n",
              "      <th>2022-08-31</th>\n",
              "      <th>2022-09-30</th>\n",
              "      <th>2022-10-31</th>\n",
              "      <th>2022-11-30</th>\n",
              "      <th>2022-12-31</th>\n",
              "      <th>2023-01-31</th>\n",
              "    </tr>\n",
              "  </thead>\n",
              "  <tbody>\n",
              "    <tr>\n",
              "      <th>0</th>\n",
              "      <td>6181</td>\n",
              "      <td>0</td>\n",
              "      <td>New York</td>\n",
              "      <td>city</td>\n",
              "      <td>NY</td>\n",
              "      <td>NY</td>\n",
              "      <td>New York-Newark-Jersey City, NY-NJ-PA</td>\n",
              "      <td>Queens County</td>\n",
              "      <td>130287.519134</td>\n",
              "      <td>130986.454069</td>\n",
              "      <td>...</td>\n",
              "      <td>624591.374167</td>\n",
              "      <td>632503.861776</td>\n",
              "      <td>639719.068154</td>\n",
              "      <td>644183.951334</td>\n",
              "      <td>645330.342375</td>\n",
              "      <td>642250.704367</td>\n",
              "      <td>639868.002388</td>\n",
              "      <td>636974.535334</td>\n",
              "      <td>632470.800784</td>\n",
              "      <td>629516.303341</td>\n",
              "    </tr>\n",
              "    <tr>\n",
              "      <th>1</th>\n",
              "      <td>12447</td>\n",
              "      <td>1</td>\n",
              "      <td>Los Angeles</td>\n",
              "      <td>city</td>\n",
              "      <td>CA</td>\n",
              "      <td>CA</td>\n",
              "      <td>Los Angeles-Long Beach-Anaheim, CA</td>\n",
              "      <td>Los Angeles County</td>\n",
              "      <td>205857.114461</td>\n",
              "      <td>206148.139291</td>\n",
              "      <td>...</td>\n",
              "      <td>899748.915585</td>\n",
              "      <td>908394.728386</td>\n",
              "      <td>913205.457773</td>\n",
              "      <td>915884.082386</td>\n",
              "      <td>913542.541439</td>\n",
              "      <td>909121.015865</td>\n",
              "      <td>904309.731512</td>\n",
              "      <td>901908.970409</td>\n",
              "      <td>898585.043168</td>\n",
              "      <td>890194.164509</td>\n",
              "    </tr>\n",
              "    <tr>\n",
              "      <th>2</th>\n",
              "      <td>39051</td>\n",
              "      <td>2</td>\n",
              "      <td>Houston</td>\n",
              "      <td>city</td>\n",
              "      <td>TX</td>\n",
              "      <td>TX</td>\n",
              "      <td>Houston-The Woodlands-Sugar Land, TX</td>\n",
              "      <td>Harris County</td>\n",
              "      <td>95018.228813</td>\n",
              "      <td>94992.795115</td>\n",
              "      <td>...</td>\n",
              "      <td>247356.386226</td>\n",
              "      <td>251261.832612</td>\n",
              "      <td>254553.486054</td>\n",
              "      <td>256833.443059</td>\n",
              "      <td>257899.901884</td>\n",
              "      <td>258099.225384</td>\n",
              "      <td>258069.554808</td>\n",
              "      <td>258056.821868</td>\n",
              "      <td>257327.171539</td>\n",
              "      <td>255921.337783</td>\n",
              "    </tr>\n",
              "    <tr>\n",
              "      <th>3</th>\n",
              "      <td>17426</td>\n",
              "      <td>3</td>\n",
              "      <td>Chicago</td>\n",
              "      <td>city</td>\n",
              "      <td>IL</td>\n",
              "      <td>IL</td>\n",
              "      <td>Chicago-Naperville-Elgin, IL-IN-WI</td>\n",
              "      <td>Cook County</td>\n",
              "      <td>120726.865760</td>\n",
              "      <td>120760.601509</td>\n",
              "      <td>...</td>\n",
              "      <td>285561.872355</td>\n",
              "      <td>286410.068889</td>\n",
              "      <td>286004.342441</td>\n",
              "      <td>284177.554780</td>\n",
              "      <td>281938.192950</td>\n",
              "      <td>279279.406615</td>\n",
              "      <td>277176.870186</td>\n",
              "      <td>276207.507874</td>\n",
              "      <td>275203.052968</td>\n",
              "      <td>276299.085040</td>\n",
              "    </tr>\n",
              "    <tr>\n",
              "      <th>4</th>\n",
              "      <td>6915</td>\n",
              "      <td>4</td>\n",
              "      <td>San Antonio</td>\n",
              "      <td>city</td>\n",
              "      <td>TX</td>\n",
              "      <td>TX</td>\n",
              "      <td>San Antonio-New Braunfels, TX</td>\n",
              "      <td>Bexar County</td>\n",
              "      <td>94902.736943</td>\n",
              "      <td>94991.755467</td>\n",
              "      <td>...</td>\n",
              "      <td>250469.248807</td>\n",
              "      <td>254742.935336</td>\n",
              "      <td>258344.545768</td>\n",
              "      <td>260608.054991</td>\n",
              "      <td>261427.814664</td>\n",
              "      <td>261084.425131</td>\n",
              "      <td>260555.370376</td>\n",
              "      <td>260019.474525</td>\n",
              "      <td>258902.543330</td>\n",
              "      <td>257774.984016</td>\n",
              "    </tr>\n",
              "  </tbody>\n",
              "</table>\n",
              "<p>5 rows × 285 columns</p>\n",
              "</div>\n",
              "      <button class=\"colab-df-convert\" onclick=\"convertToInteractive('df-18381746-7c16-4250-8df6-17bd65372475')\"\n",
              "              title=\"Convert this dataframe to an interactive table.\"\n",
              "              style=\"display:none;\">\n",
              "        \n",
              "  <svg xmlns=\"http://www.w3.org/2000/svg\" height=\"24px\"viewBox=\"0 0 24 24\"\n",
              "       width=\"24px\">\n",
              "    <path d=\"M0 0h24v24H0V0z\" fill=\"none\"/>\n",
              "    <path d=\"M18.56 5.44l.94 2.06.94-2.06 2.06-.94-2.06-.94-.94-2.06-.94 2.06-2.06.94zm-11 1L8.5 8.5l.94-2.06 2.06-.94-2.06-.94L8.5 2.5l-.94 2.06-2.06.94zm10 10l.94 2.06.94-2.06 2.06-.94-2.06-.94-.94-2.06-.94 2.06-2.06.94z\"/><path d=\"M17.41 7.96l-1.37-1.37c-.4-.4-.92-.59-1.43-.59-.52 0-1.04.2-1.43.59L10.3 9.45l-7.72 7.72c-.78.78-.78 2.05 0 2.83L4 21.41c.39.39.9.59 1.41.59.51 0 1.02-.2 1.41-.59l7.78-7.78 2.81-2.81c.8-.78.8-2.07 0-2.86zM5.41 20L4 18.59l7.72-7.72 1.47 1.35L5.41 20z\"/>\n",
              "  </svg>\n",
              "      </button>\n",
              "      \n",
              "  <style>\n",
              "    .colab-df-container {\n",
              "      display:flex;\n",
              "      flex-wrap:wrap;\n",
              "      gap: 12px;\n",
              "    }\n",
              "\n",
              "    .colab-df-convert {\n",
              "      background-color: #E8F0FE;\n",
              "      border: none;\n",
              "      border-radius: 50%;\n",
              "      cursor: pointer;\n",
              "      display: none;\n",
              "      fill: #1967D2;\n",
              "      height: 32px;\n",
              "      padding: 0 0 0 0;\n",
              "      width: 32px;\n",
              "    }\n",
              "\n",
              "    .colab-df-convert:hover {\n",
              "      background-color: #E2EBFA;\n",
              "      box-shadow: 0px 1px 2px rgba(60, 64, 67, 0.3), 0px 1px 3px 1px rgba(60, 64, 67, 0.15);\n",
              "      fill: #174EA6;\n",
              "    }\n",
              "\n",
              "    [theme=dark] .colab-df-convert {\n",
              "      background-color: #3B4455;\n",
              "      fill: #D2E3FC;\n",
              "    }\n",
              "\n",
              "    [theme=dark] .colab-df-convert:hover {\n",
              "      background-color: #434B5C;\n",
              "      box-shadow: 0px 1px 3px 1px rgba(0, 0, 0, 0.15);\n",
              "      filter: drop-shadow(0px 1px 2px rgba(0, 0, 0, 0.3));\n",
              "      fill: #FFFFFF;\n",
              "    }\n",
              "  </style>\n",
              "\n",
              "      <script>\n",
              "        const buttonEl =\n",
              "          document.querySelector('#df-18381746-7c16-4250-8df6-17bd65372475 button.colab-df-convert');\n",
              "        buttonEl.style.display =\n",
              "          google.colab.kernel.accessAllowed ? 'block' : 'none';\n",
              "\n",
              "        async function convertToInteractive(key) {\n",
              "          const element = document.querySelector('#df-18381746-7c16-4250-8df6-17bd65372475');\n",
              "          const dataTable =\n",
              "            await google.colab.kernel.invokeFunction('convertToInteractive',\n",
              "                                                     [key], {});\n",
              "          if (!dataTable) return;\n",
              "\n",
              "          const docLinkHtml = 'Like what you see? Visit the ' +\n",
              "            '<a target=\"_blank\" href=https://colab.research.google.com/notebooks/data_table.ipynb>data table notebook</a>'\n",
              "            + ' to learn more about interactive tables.';\n",
              "          element.innerHTML = '';\n",
              "          dataTable['output_type'] = 'display_data';\n",
              "          await google.colab.output.renderOutput(dataTable, element);\n",
              "          const docLink = document.createElement('div');\n",
              "          docLink.innerHTML = docLinkHtml;\n",
              "          element.appendChild(docLink);\n",
              "        }\n",
              "      </script>\n",
              "    </div>\n",
              "  </div>\n",
              "  "
            ]
          },
          "metadata": {},
          "execution_count": 3
        }
      ]
    },
    {
      "cell_type": "markdown",
      "source": [
        "# data exploration and transformation\n"
      ],
      "metadata": {
        "id": "rzdkaOI-NKoM"
      }
    },
    {
      "cell_type": "code",
      "source": [
        "# distribution of values plot for columns 'StateName' and 'State'\n",
        "\n",
        "fig, ax = plt.subplots(1,2,figsize=(10,5))\n",
        "sns.distplot(data['StateName'].value_counts(),ax =ax[0])\n",
        "\n",
        "sns.distplot(data['State'].value_counts(),ax = ax[1])\n",
        "\n",
        "\n",
        "plt.show()"
      ],
      "metadata": {
        "colab": {
          "base_uri": "https://localhost:8080/",
          "height": 334
        },
        "id": "sOPMgEGsOkfr",
        "outputId": "f595584c-7785-4e9b-a0ae-4661148a716b"
      },
      "execution_count": 4,
      "outputs": [
        {
          "output_type": "display_data",
          "data": {
            "text/plain": [
              "<Figure size 720x360 with 2 Axes>"
            ],
            "image/png": "[encoded data removed]"
          },
          "metadata": {
            "needs_background": "light"
          }
        }
      ]
    },
    {
      "cell_type": "code",
      "source": [
        "# 1) dimentionality reduction : since we have a many numbers of dimensions in this dataset\n",
        "#    so i will remove some dimensions from which i guess does not have much importance \n",
        "#    since we already know this dataset is based on cities only, so having the column name as 'RegionType' makes no relevance.\n",
        "#    'StateName' and 'State' columns share the exactly same values(see above distribution plots), so keeping only one column will we enough.\n",
        "\n",
        "\n",
        "\n",
        "def dimension_reduction(col):\n",
        "\n",
        "    return data.drop(col,axis =1)\n",
        "\n",
        "data = dimension_reduction(['RegionType','StateName'])\n"
      ],
      "metadata": {
        "id": "dEC2XC-TNOA-"
      },
      "execution_count": 5,
      "outputs": []
    },
    {
      "cell_type": "code",
      "source": [],
      "metadata": {
        "id": "UWY4rWWLR62F"
      },
      "execution_count": 5,
      "outputs": []
    },
    {
      "cell_type": "code",
      "source": [
        "sns.distplot(data['SizeRank'].value_counts())  # value counts for sizerank column\n",
        "plt.show()"
      ],
      "metadata": {
        "colab": {
          "base_uri": "https://localhost:8080/",
          "height": 279
        },
        "id": "kH0jQlTcarQV",
        "outputId": "c84e146b-bd67-4be3-c57f-695ed0a44171"
      },
      "execution_count": 41,
      "outputs": [
        {
          "output_type": "display_data",
          "data": {
            "text/plain": [
              "<Figure size 432x288 with 1 Axes>"
            ],
            "image/png": "[encoded data removed]"
          },
          "metadata": {
            "needs_background": "light"
          }
        }
      ]
    },
    {
      "cell_type": "code",
      "source": [
        "plt.plot(data['RegionName'].value_counts()  )    # this value count plot suggests that the we have some region names with multiple cities in it.\n",
        "\n",
        "plt.show()"
      ],
      "metadata": {
        "colab": {
          "base_uri": "https://localhost:8080/",
          "height": 265
        },
        "id": "FF7HWqzydZiK",
        "outputId": "67c00a9f-a0b3-4419-da97-03f6943b3528"
      },
      "execution_count": 42,
      "outputs": [
        {
          "output_type": "display_data",
          "data": {
            "text/plain": [
              "<Figure size 432x288 with 1 Axes>"
            ],
            "image/png": "[encoded data removed]"
          },
          "metadata": {
            "needs_background": "light"
          }
        }
      ]
    },
    {
      "cell_type": "code",
      "source": [
        "# value counts for RegionID \n",
        "\n",
        "plt.plot(data['RegionID'].value_counts())\n",
        "       \n",
        "# from result, we got indivisual value of each regionid which we can take as a key to check the trend of house prices ZHVI index"
      ],
      "metadata": {
        "colab": {
          "base_uri": "https://localhost:8080/",
          "height": 282
        },
        "id": "qVKngpeNY-hk",
        "outputId": "ea6000fb-de76-46e1-e1e8-4a5c2b9b0367"
      },
      "execution_count": 35,
      "outputs": [
        {
          "output_type": "execute_result",
          "data": {
            "text/plain": [
              "[<matplotlib.lines.Line2D at 0x7fca11b704c0>]"
            ]
          },
          "metadata": {},
          "execution_count": 35
        },
        {
          "output_type": "display_data",
          "data": {
            "text/plain": [
              "<Figure size 432x288 with 1 Axes>"
            ],
            "image/png": "[encoded data removed]"
          },
          "metadata": {
            "needs_background": "light"
          }
        }
      ]
    },
    {
      "cell_type": "code",
      "source": [],
      "metadata": {
        "id": "qynNt44uY-eM"
      },
      "execution_count": 8,
      "outputs": []
    },
    {
      "cell_type": "code",
      "source": [],
      "metadata": {
        "id": "MP1gmQcuvZBm"
      },
      "execution_count": 8,
      "outputs": []
    },
    {
      "cell_type": "code",
      "source": [
        "# 2) playing with missing values \n",
        "\n",
        "# first we will check the missing values in categorical data features, it would be easy for further proceding.\n",
        "\n",
        "def missing_values(col):\n",
        "  \n",
        "  return (data[col].isnull().sum())\n",
        "\n",
        "\n",
        "\n",
        "columns = ['Metro','SizeRank','RegionName','CountyName','State']\n",
        "for i in columns:\n",
        "\n",
        "    print(f'missing values in {i} is : ',missing_values(i))"
      ],
      "metadata": {
        "colab": {
          "base_uri": "https://localhost:8080/"
        },
        "id": "gM79y2uzvY4h",
        "outputId": "e16ecc5d-00a4-4f0f-e201-2296eac1efee"
      },
      "execution_count": 9,
      "outputs": [
        {
          "output_type": "stream",
          "name": "stdout",
          "text": [
            "missing values in Metro is :  4847\n",
            "missing values in SizeRank is :  0\n",
            "missing values in RegionName is :  0\n",
            "missing values in CountyName is :  0\n",
            "missing values in State is :  0\n"
          ]
        }
      ]
    },
    {
      "cell_type": "code",
      "source": [],
      "metadata": {
        "id": "YNw7KfhU1uht"
      },
      "execution_count": 9,
      "outputs": []
    },
    {
      "cell_type": "code",
      "source": [],
      "metadata": {
        "id": "nQ4iV6Uk1uaZ"
      },
      "execution_count": 9,
      "outputs": []
    },
    {
      "cell_type": "code",
      "source": [
        "# the metro plays an important role in the house prices of cities, \n",
        "# so i am going to change the multiple categorical values to binary category, 1 for city having metro and 0 for not having metro \n",
        "\n",
        "data['Metro'] = data['Metro'].where(data['Metro'].isnull(), 1, inplace=False) # changed the non null values to 1, for having a metro\n",
        "\n",
        "data['Metro'].fillna(0,inplace =True)    # value 0 means city doesnot have metro "
      ],
      "metadata": {
        "id": "hfWgZgcnzV7E"
      },
      "execution_count": 10,
      "outputs": []
    },
    {
      "cell_type": "code",
      "source": [
        "print(data['Metro'].isnull().sum()) # now all the null values are removed from metro column"
      ],
      "metadata": {
        "colab": {
          "base_uri": "https://localhost:8080/"
        },
        "id": "SIJiMdQkuFCC",
        "outputId": "0df379fa-9fa9-4be1-d8c3-f1e8feac140d"
      },
      "execution_count": 11,
      "outputs": [
        {
          "output_type": "stream",
          "name": "stdout",
          "text": [
            "0\n"
          ]
        }
      ]
    },
    {
      "cell_type": "code",
      "source": [
        "plt.plot(data['Metro'].value_counts())  # see from the graph below we are only having 0 and 1 values."
      ],
      "metadata": {
        "colab": {
          "base_uri": "https://localhost:8080/",
          "height": 284
        },
        "id": "wycOQNpmz3qd",
        "outputId": "7eb8cd70-1505-4a35-fa55-6fceac68c9a1"
      },
      "execution_count": 34,
      "outputs": [
        {
          "output_type": "execute_result",
          "data": {
            "text/plain": [
              "[<matplotlib.lines.Line2D at 0x7fca113d7820>]"
            ]
          },
          "metadata": {},
          "execution_count": 34
        },
        {
          "output_type": "display_data",
          "data": {
            "text/plain": [
              "<Figure size 432x288 with 1 Axes>"
            ],
            "image/png": "[encoded data removed]"
          },
          "metadata": {
            "needs_background": "light"
          }
        }
      ]
    },
    {
      "cell_type": "code",
      "source": [
        "data.describe()"
      ],
      "metadata": {
        "id": "obH0WSiW2LoC",
        "colab": {
          "base_uri": "https://localhost:8080/",
          "height": 393
        },
        "outputId": "cacd1e68-1391-4d63-904a-42b705d52a71"
      },
      "execution_count": 13,
      "outputs": [
        {
          "output_type": "execute_result",
          "data": {
            "text/plain": [
              "            RegionID      SizeRank         Metro    2000-01-31    2000-02-29  \\\n",
              "count   22390.000000  22390.000000  22390.000000  8.843000e+03  8.894000e+03   \n",
              "mean    55572.586467  12529.858866      0.783519  1.408103e+05  1.408986e+05   \n",
              "std    109062.369565   7951.386624      0.411855  1.074339e+05  1.077052e+05   \n",
              "min      3300.000000      0.000000      0.000000  3.243672e+03  3.240064e+03   \n",
              "25%     17568.250000   5737.250000      1.000000  7.678971e+04  7.682559e+04   \n",
              "50%     31991.000000  11697.500000      1.000000  1.173309e+05  1.170893e+05   \n",
              "75%     46820.250000  18882.000000      1.000000  1.714256e+05  1.713933e+05   \n",
              "max    832069.000000  28439.000000      1.000000  1.854760e+06  1.869786e+06   \n",
              "\n",
              "         2000-03-31    2000-04-30    2000-05-31    2000-06-30    2000-07-31  \\\n",
              "count  8.912000e+03  8.930000e+03  8.983000e+03  8.996000e+03  9.023000e+03   \n",
              "mean   1.411457e+05  1.419259e+05  1.427703e+05  1.437065e+05  1.448372e+05   \n",
              "std    1.082348e+05  1.094710e+05  1.107384e+05  1.122807e+05  1.138602e+05   \n",
              "min    3.233232e+03  3.226388e+03  3.215605e+03  3.200860e+03  3.202919e+03   \n",
              "25%    7.686324e+04  7.708882e+04  7.749654e+04  7.780510e+04  7.813280e+04   \n",
              "50%    1.172695e+05  1.177996e+05  1.182827e+05  1.187592e+05  1.192664e+05   \n",
              "75%    1.715438e+05  1.721859e+05  1.731905e+05  1.743337e+05  1.754979e+05   \n",
              "max    1.892236e+06  1.939675e+06  1.998294e+06  2.065612e+06  2.133827e+06   \n",
              "\n",
              "       ...    2022-04-30    2022-05-31    2022-06-30    2022-07-31  \\\n",
              "count  ...  2.136000e+04  2.135900e+04  2.135900e+04  2.136100e+04   \n",
              "mean   ...  2.945084e+05  2.988437e+05  3.023070e+05  3.038124e+05   \n",
              "std    ...  3.001605e+05  3.057908e+05  3.094475e+05  3.103742e+05   \n",
              "min    ...  2.746136e+04  2.821023e+04  2.694200e+04  2.648654e+04   \n",
              "25%    ...  1.448121e+05  1.464456e+05  1.479775e+05  1.489556e+05   \n",
              "50%    ...  2.192682e+05  2.221832e+05  2.249927e+05  2.263839e+05   \n",
              "75%    ...  3.470683e+05  3.522064e+05  3.565686e+05  3.585656e+05   \n",
              "max    ...  8.781826e+06  9.065268e+06  9.297991e+06  9.419891e+06   \n",
              "\n",
              "         2022-08-31    2022-09-30    2022-10-31    2022-11-30    2022-12-31  \\\n",
              "count  2.136100e+04  2.136100e+04  2.136000e+04  2.136000e+04  2.135800e+04   \n",
              "mean   3.035426e+05  3.018511e+05  3.004785e+05  2.995209e+05  2.985542e+05   \n",
              "std    3.089033e+05  3.057281e+05  3.030248e+05  3.015624e+05  3.003327e+05   \n",
              "min    2.636644e+04  2.661641e+04  2.606558e+04  2.507902e+04  2.374617e+04   \n",
              "25%    1.492133e+05  1.487277e+05  1.483177e+05  1.479700e+05  1.476904e+05   \n",
              "50%    2.268239e+05  2.261131e+05  2.255779e+05  2.249421e+05  2.246631e+05   \n",
              "75%    3.586675e+05  3.569692e+05  3.558011e+05  3.550045e+05  3.535716e+05   \n",
              "max    9.448384e+06  9.414435e+06  9.331875e+06  9.280837e+06  9.167373e+06   \n",
              "\n",
              "         2023-01-31  \n",
              "count  2.237200e+04  \n",
              "mean   2.950993e+05  \n",
              "std    2.944558e+05  \n",
              "min    2.392334e+04  \n",
              "25%    1.468334e+05  \n",
              "50%    2.229125e+05  \n",
              "75%    3.501302e+05  \n",
              "max    9.068339e+06  \n",
              "\n",
              "[8 rows x 280 columns]"
            ],
            "text/html": [
              "\n",
              "  <div id=\"df-262a657e-1b80-4a1e-9c45-186881359406\">\n",
              "    <div class=\"colab-df-container\">\n",
              "      <div>\n",
              "<style scoped>\n",
              "    .dataframe tbody tr th:only-of-type {\n",
              "        vertical-align: middle;\n",
              "    }\n",
              "\n",
              "    .dataframe tbody tr th {\n",
              "        vertical-align: top;\n",
              "    }\n",
              "\n",
              "    .dataframe thead th {\n",
              "        text-align: right;\n",
              "    }\n",
              "</style>\n",
              "<table border=\"1\" class=\"dataframe\">\n",
              "  <thead>\n",
              "    <tr style=\"text-align: right;\">\n",
              "      <th></th>\n",
              "      <th>RegionID</th>\n",
              "      <th>SizeRank</th>\n",
              "      <th>Metro</th>\n",
              "      <th>2000-01-31</th>\n",
              "      <th>2000-02-29</th>\n",
              "      <th>2000-03-31</th>\n",
              "      <th>2000-04-30</th>\n",
              "      <th>2000-05-31</th>\n",
              "      <th>2000-06-30</th>\n",
              "      <th>2000-07-31</th>\n",
              "      <th>...</th>\n",
              "      <th>2022-04-30</th>\n",
              "      <th>2022-05-31</th>\n",
              "      <th>2022-06-30</th>\n",
              "      <th>2022-07-31</th>\n",
              "      <th>2022-08-31</th>\n",
              "      <th>2022-09-30</th>\n",
              "      <th>2022-10-31</th>\n",
              "      <th>2022-11-30</th>\n",
              "      <th>2022-12-31</th>\n",
              "      <th>2023-01-31</th>\n",
              "    </tr>\n",
              "  </thead>\n",
              "  <tbody>\n",
              "    <tr>\n",
              "      <th>count</th>\n",
              "      <td>22390.000000</td>\n",
              "      <td>22390.000000</td>\n",
              "      <td>22390.000000</td>\n",
              "      <td>8.843000e+03</td>\n",
              "      <td>8.894000e+03</td>\n",
              "      <td>8.912000e+03</td>\n",
              "      <td>8.930000e+03</td>\n",
              "      <td>8.983000e+03</td>\n",
              "      <td>8.996000e+03</td>\n",
              "      <td>9.023000e+03</td>\n",
              "      <td>...</td>\n",
              "      <td>2.136000e+04</td>\n",
              "      <td>2.135900e+04</td>\n",
              "      <td>2.135900e+04</td>\n",
              "      <td>2.136100e+04</td>\n",
              "      <td>2.136100e+04</td>\n",
              "      <td>2.136100e+04</td>\n",
              "      <td>2.136000e+04</td>\n",
              "      <td>2.136000e+04</td>\n",
              "      <td>2.135800e+04</td>\n",
              "      <td>2.237200e+04</td>\n",
              "    </tr>\n",
              "    <tr>\n",
              "      <th>mean</th>\n",
              "      <td>55572.586467</td>\n",
              "      <td>12529.858866</td>\n",
              "      <td>0.783519</td>\n",
              "      <td>1.408103e+05</td>\n",
              "      <td>1.408986e+05</td>\n",
              "      <td>1.411457e+05</td>\n",
              "      <td>1.419259e+05</td>\n",
              "      <td>1.427703e+05</td>\n",
              "      <td>1.437065e+05</td>\n",
              "      <td>1.448372e+05</td>\n",
              "      <td>...</td>\n",
              "      <td>2.945084e+05</td>\n",
              "      <td>2.988437e+05</td>\n",
              "      <td>3.023070e+05</td>\n",
              "      <td>3.038124e+05</td>\n",
              "      <td>3.035426e+05</td>\n",
              "      <td>3.018511e+05</td>\n",
              "      <td>3.004785e+05</td>\n",
              "      <td>2.995209e+05</td>\n",
              "      <td>2.985542e+05</td>\n",
              "      <td>2.950993e+05</td>\n",
              "    </tr>\n",
              "    <tr>\n",
              "      <th>std</th>\n",
              "      <td>109062.369565</td>\n",
              "      <td>7951.386624</td>\n",
              "      <td>0.411855</td>\n",
              "      <td>1.074339e+05</td>\n",
              "      <td>1.077052e+05</td>\n",
              "      <td>1.082348e+05</td>\n",
              "      <td>1.094710e+05</td>\n",
              "      <td>1.107384e+05</td>\n",
              "      <td>1.122807e+05</td>\n",
              "      <td>1.138602e+05</td>\n",
              "      <td>...</td>\n",
              "      <td>3.001605e+05</td>\n",
              "      <td>3.057908e+05</td>\n",
              "      <td>3.094475e+05</td>\n",
              "      <td>3.103742e+05</td>\n",
              "      <td>3.089033e+05</td>\n",
              "      <td>3.057281e+05</td>\n",
              "      <td>3.030248e+05</td>\n",
              "      <td>3.015624e+05</td>\n",
              "      <td>3.003327e+05</td>\n",
              "      <td>2.944558e+05</td>\n",
              "    </tr>\n",
              "    <tr>\n",
              "      <th>min</th>\n",
              "      <td>3300.000000</td>\n",
              "      <td>0.000000</td>\n",
              "      <td>0.000000</td>\n",
              "      <td>3.243672e+03</td>\n",
              "      <td>3.240064e+03</td>\n",
              "      <td>3.233232e+03</td>\n",
              "      <td>3.226388e+03</td>\n",
              "      <td>3.215605e+03</td>\n",
              "      <td>3.200860e+03</td>\n",
              "      <td>3.202919e+03</td>\n",
              "      <td>...</td>\n",
              "      <td>2.746136e+04</td>\n",
              "      <td>2.821023e+04</td>\n",
              "      <td>2.694200e+04</td>\n",
              "      <td>2.648654e+04</td>\n",
              "      <td>2.636644e+04</td>\n",
              "      <td>2.661641e+04</td>\n",
              "      <td>2.606558e+04</td>\n",
              "      <td>2.507902e+04</td>\n",
              "      <td>2.374617e+04</td>\n",
              "      <td>2.392334e+04</td>\n",
              "    </tr>\n",
              "    <tr>\n",
              "      <th>25%</th>\n",
              "      <td>17568.250000</td>\n",
              "      <td>5737.250000</td>\n",
              "      <td>1.000000</td>\n",
              "      <td>7.678971e+04</td>\n",
              "      <td>7.682559e+04</td>\n",
              "      <td>7.686324e+04</td>\n",
              "      <td>7.708882e+04</td>\n",
              "      <td>7.749654e+04</td>\n",
              "      <td>7.780510e+04</td>\n",
              "      <td>7.813280e+04</td>\n",
              "      <td>...</td>\n",
              "      <td>1.448121e+05</td>\n",
              "      <td>1.464456e+05</td>\n",
              "      <td>1.479775e+05</td>\n",
              "      <td>1.489556e+05</td>\n",
              "      <td>1.492133e+05</td>\n",
              "      <td>1.487277e+05</td>\n",
              "      <td>1.483177e+05</td>\n",
              "      <td>1.479700e+05</td>\n",
              "      <td>1.476904e+05</td>\n",
              "      <td>1.468334e+05</td>\n",
              "    </tr>\n",
              "    <tr>\n",
              "      <th>50%</th>\n",
              "      <td>31991.000000</td>\n",
              "      <td>11697.500000</td>\n",
              "      <td>1.000000</td>\n",
              "      <td>1.173309e+05</td>\n",
              "      <td>1.170893e+05</td>\n",
              "      <td>1.172695e+05</td>\n",
              "      <td>1.177996e+05</td>\n",
              "      <td>1.182827e+05</td>\n",
              "      <td>1.187592e+05</td>\n",
              "      <td>1.192664e+05</td>\n",
              "      <td>...</td>\n",
              "      <td>2.192682e+05</td>\n",
              "      <td>2.221832e+05</td>\n",
              "      <td>2.249927e+05</td>\n",
              "      <td>2.263839e+05</td>\n",
              "      <td>2.268239e+05</td>\n",
              "      <td>2.261131e+05</td>\n",
              "      <td>2.255779e+05</td>\n",
              "      <td>2.249421e+05</td>\n",
              "      <td>2.246631e+05</td>\n",
              "      <td>2.229125e+05</td>\n",
              "    </tr>\n",
              "    <tr>\n",
              "      <th>75%</th>\n",
              "      <td>46820.250000</td>\n",
              "      <td>18882.000000</td>\n",
              "      <td>1.000000</td>\n",
              "      <td>1.714256e+05</td>\n",
              "      <td>1.713933e+05</td>\n",
              "      <td>1.715438e+05</td>\n",
              "      <td>1.721859e+05</td>\n",
              "      <td>1.731905e+05</td>\n",
              "      <td>1.743337e+05</td>\n",
              "      <td>1.754979e+05</td>\n",
              "      <td>...</td>\n",
              "      <td>3.470683e+05</td>\n",
              "      <td>3.522064e+05</td>\n",
              "      <td>3.565686e+05</td>\n",
              "      <td>3.585656e+05</td>\n",
              "      <td>3.586675e+05</td>\n",
              "      <td>3.569692e+05</td>\n",
              "      <td>3.558011e+05</td>\n",
              "      <td>3.550045e+05</td>\n",
              "      <td>3.535716e+05</td>\n",
              "      <td>3.501302e+05</td>\n",
              "    </tr>\n",
              "    <tr>\n",
              "      <th>max</th>\n",
              "      <td>832069.000000</td>\n",
              "      <td>28439.000000</td>\n",
              "      <td>1.000000</td>\n",
              "      <td>1.854760e+06</td>\n",
              "      <td>1.869786e+06</td>\n",
              "      <td>1.892236e+06</td>\n",
              "      <td>1.939675e+06</td>\n",
              "      <td>1.998294e+06</td>\n",
              "      <td>2.065612e+06</td>\n",
              "      <td>2.133827e+06</td>\n",
              "      <td>...</td>\n",
              "      <td>8.781826e+06</td>\n",
              "      <td>9.065268e+06</td>\n",
              "      <td>9.297991e+06</td>\n",
              "      <td>9.419891e+06</td>\n",
              "      <td>9.448384e+06</td>\n",
              "      <td>9.414435e+06</td>\n",
              "      <td>9.331875e+06</td>\n",
              "      <td>9.280837e+06</td>\n",
              "      <td>9.167373e+06</td>\n",
              "      <td>9.068339e+06</td>\n",
              "    </tr>\n",
              "  </tbody>\n",
              "</table>\n",
              "<p>8 rows × 280 columns</p>\n",
              "</div>\n",
              "      <button class=\"colab-df-convert\" onclick=\"convertToInteractive('df-262a657e-1b80-4a1e-9c45-186881359406')\"\n",
              "              title=\"Convert this dataframe to an interactive table.\"\n",
              "              style=\"display:none;\">\n",
              "        \n",
              "  <svg xmlns=\"http://www.w3.org/2000/svg\" height=\"24px\"viewBox=\"0 0 24 24\"\n",
              "       width=\"24px\">\n",
              "    <path d=\"M0 0h24v24H0V0z\" fill=\"none\"/>\n",
              "    <path d=\"M18.56 5.44l.94 2.06.94-2.06 2.06-.94-2.06-.94-.94-2.06-.94 2.06-2.06.94zm-11 1L8.5 8.5l.94-2.06 2.06-.94-2.06-.94L8.5 2.5l-.94 2.06-2.06.94zm10 10l.94 2.06.94-2.06 2.06-.94-2.06-.94-.94-2.06-.94 2.06-2.06.94z\"/><path d=\"M17.41 7.96l-1.37-1.37c-.4-.4-.92-.59-1.43-.59-.52 0-1.04.2-1.43.59L10.3 9.45l-7.72 7.72c-.78.78-.78 2.05 0 2.83L4 21.41c.39.39.9.59 1.41.59.51 0 1.02-.2 1.41-.59l7.78-7.78 2.81-2.81c.8-.78.8-2.07 0-2.86zM5.41 20L4 18.59l7.72-7.72 1.47 1.35L5.41 20z\"/>\n",
              "  </svg>\n",
              "      </button>\n",
              "      \n",
              "  <style>\n",
              "    .colab-df-container {\n",
              "      display:flex;\n",
              "      flex-wrap:wrap;\n",
              "      gap: 12px;\n",
              "    }\n",
              "\n",
              "    .colab-df-convert {\n",
              "      background-color: #E8F0FE;\n",
              "      border: none;\n",
              "      border-radius: 50%;\n",
              "      cursor: pointer;\n",
              "      display: none;\n",
              "      fill: #1967D2;\n",
              "      height: 32px;\n",
              "      padding: 0 0 0 0;\n",
              "      width: 32px;\n",
              "    }\n",
              "\n",
              "    .colab-df-convert:hover {\n",
              "      background-color: #E2EBFA;\n",
              "      box-shadow: 0px 1px 2px rgba(60, 64, 67, 0.3), 0px 1px 3px 1px rgba(60, 64, 67, 0.15);\n",
              "      fill: #174EA6;\n",
              "    }\n",
              "\n",
              "    [theme=dark] .colab-df-convert {\n",
              "      background-color: #3B4455;\n",
              "      fill: #D2E3FC;\n",
              "    }\n",
              "\n",
              "    [theme=dark] .colab-df-convert:hover {\n",
              "      background-color: #434B5C;\n",
              "      box-shadow: 0px 1px 3px 1px rgba(0, 0, 0, 0.15);\n",
              "      filter: drop-shadow(0px 1px 2px rgba(0, 0, 0, 0.3));\n",
              "      fill: #FFFFFF;\n",
              "    }\n",
              "  </style>\n",
              "\n",
              "      <script>\n",
              "        const buttonEl =\n",
              "          document.querySelector('#df-262a657e-1b80-4a1e-9c45-186881359406 button.colab-df-convert');\n",
              "        buttonEl.style.display =\n",
              "          google.colab.kernel.accessAllowed ? 'block' : 'none';\n",
              "\n",
              "        async function convertToInteractive(key) {\n",
              "          const element = document.querySelector('#df-262a657e-1b80-4a1e-9c45-186881359406');\n",
              "          const dataTable =\n",
              "            await google.colab.kernel.invokeFunction('convertToInteractive',\n",
              "                                                     [key], {});\n",
              "          if (!dataTable) return;\n",
              "\n",
              "          const docLinkHtml = 'Like what you see? Visit the ' +\n",
              "            '<a target=\"_blank\" href=https://colab.research.google.com/notebooks/data_table.ipynb>data table notebook</a>'\n",
              "            + ' to learn more about interactive tables.';\n",
              "          element.innerHTML = '';\n",
              "          dataTable['output_type'] = 'display_data';\n",
              "          await google.colab.output.renderOutput(dataTable, element);\n",
              "          const docLink = document.createElement('div');\n",
              "          docLink.innerHTML = docLinkHtml;\n",
              "          element.appendChild(docLink);\n",
              "        }\n",
              "      </script>\n",
              "    </div>\n",
              "  </div>\n",
              "  "
            ]
          },
          "metadata": {},
          "execution_count": 13
        }
      ]
    },
    {
      "cell_type": "code",
      "source": [
        "sns.distplot(data.isnull().sum())   # null values distribution in data\n",
        "plt.show()"
      ],
      "metadata": {
        "colab": {
          "base_uri": "https://localhost:8080/",
          "height": 282
        },
        "id": "z0QXiBmO2RUo",
        "outputId": "43436fb4-9921-4c0c-ae65-f63def13c4e9"
      },
      "execution_count": 40,
      "outputs": [
        {
          "output_type": "execute_result",
          "data": {
            "text/plain": [
              "<AxesSubplot:ylabel='Density'>"
            ]
          },
          "metadata": {},
          "execution_count": 40
        },
        {
          "output_type": "display_data",
          "data": {
            "text/plain": [
              "<Figure size 432x288 with 1 Axes>"
            ],
            "image/png": "[encoded data removed]"
          },
          "metadata": {
            "needs_background": "light"
          }
        }
      ]
    },
    {
      "cell_type": "code",
      "source": [
        "data.isnull().sum().sum()"
      ],
      "metadata": {
        "colab": {
          "base_uri": "https://localhost:8080/"
        },
        "id": "8HYUraReXI0F",
        "outputId": "c20e746e-3e62-4cc6-bead-6bfc4e95c522"
      },
      "execution_count": 15,
      "outputs": [
        {
          "output_type": "execute_result",
          "data": {
            "text/plain": [
              "RegionID         0\n",
              "SizeRank         0\n",
              "RegionName       0\n",
              "State            0\n",
              "Metro            0\n",
              "              ... \n",
              "2022-09-30    1029\n",
              "2022-10-31    1030\n",
              "2022-11-30    1030\n",
              "2022-12-31    1032\n",
              "2023-01-31      18\n",
              "Length: 283, dtype: int64"
            ]
          },
          "metadata": {},
          "execution_count": 15
        }
      ]
    },
    {
      "cell_type": "code",
      "source": [
        "# since we have a lot of missing values in numerical features so we will try to fill those missing values with backfilling and front filling method.\n",
        "\n",
        "data =data.fillna(value=None, method='backfill', axis=None,limit = 15,  downcast=None)\n",
        "\n",
        "data = data.fillna(value=None, method='ffill', axis=None,limit = 15,  downcast=None)"
      ],
      "metadata": {
        "id": "YbALqQ3lT3hF"
      },
      "execution_count": 16,
      "outputs": []
    },
    {
      "cell_type": "code",
      "source": [],
      "metadata": {
        "id": "0xIpg6wsXCvy"
      },
      "execution_count": 17,
      "outputs": []
    },
    {
      "cell_type": "code",
      "source": [
        "data.isnull().sum().sum()"
      ],
      "metadata": {
        "id": "tBvtnBIHYhIB",
        "colab": {
          "base_uri": "https://localhost:8080/"
        },
        "outputId": "1703419a-7a30-49ad-8550-fd467e0dcabb"
      },
      "execution_count": 18,
      "outputs": [
        {
          "output_type": "execute_result",
          "data": {
            "text/plain": [
              "784"
            ]
          },
          "metadata": {},
          "execution_count": 18
        }
      ]
    },
    {
      "cell_type": "code",
      "source": [
        "col_list = list(data.columns)\n",
        "col_list = col_list[6:]\n",
        "\n",
        "date_time_normal = []\n",
        "for i in col_list:\n",
        "\n",
        "    x = datetime.strptime(i,'%Y-%m-%d')\n",
        "    x = x.strftime('%Y%m%d')\n",
        "    date_time_normal.append(x)\n",
        "\n",
        "\n",
        "  # we can take the all datetime column as a list and make the values in integer form and can use as index for the graph plotting,although we don't need it much."
      ],
      "metadata": {
        "id": "flSvOC4DYo9H"
      },
      "execution_count": 19,
      "outputs": []
    },
    {
      "cell_type": "code",
      "source": [
        "\n"
      ],
      "metadata": {
        "id": "uYaQ3e9EY5wU"
      },
      "execution_count": 19,
      "outputs": []
    },
    {
      "cell_type": "code",
      "source": [
        "\n"
      ],
      "metadata": {
        "id": "nCR9HsaLaYIl"
      },
      "execution_count": 20,
      "outputs": []
    },
    {
      "cell_type": "code",
      "source": [
        "#                  visualisation of ZHVI index values trend for the particular region,we can take the region id input from the user side \n",
        "\n",
        "#                  user visualisation by entering the region id\n",
        "\n",
        "\n",
        "# taking input from user and showing them the graph variation\n",
        "\n",
        "n = int(input('total values : '))\n",
        "user_side = list(map(int,input(\"\\nEnter the numbers : \").strip().split()))[:n]\n",
        "#user_side = list(user_side)\n",
        "for i in user_side:\n",
        "    id = data[data['RegionID'] == i]    # let 6181 is the id entered by user\n",
        "    id = id.iloc[0,6:]\n",
        "    plt.subplots(figsize=(20,5))   # this size is choosen so that graph can be seen clearly.\n",
        "    plt.plot(id)\n",
        "    plt.xlabel('month on month growth')\n",
        "    plt.ylabel('ZHVI index value of houses ')\n",
        "    plt.title(f'plot of month vs ZHVI for region id {i}')\n",
        "    plt.show()"
      ],
      "metadata": {
        "id": "tGrs7D1_ZFyz",
        "colab": {
          "base_uri": "https://localhost:8080/",
          "height": 718
        },
        "outputId": "3c5090c9-c7e2-4951-b61b-3f45eb7e6515"
      },
      "execution_count": 51,
      "outputs": [
        {
          "name": "stdout",
          "output_type": "stream",
          "text": [
            "total values : 2\n",
            "\n",
            "Enter the numbers : 6181 12447\n"
          ]
        },
        {
          "output_type": "display_data",
          "data": {
            "text/plain": [
              "<Figure size 1440x360 with 1 Axes>"
            ],
            "image/png": "[encoded data removed]"
          },
          "metadata": {
            "needs_background": "light"
          }
        },
        {
          "output_type": "display_data",
          "data": {
            "text/plain": [
              "<Figure size 1440x360 with 1 Axes>"
            ],
            "image/png": "[encoded data removed]"
          },
          "metadata": {
            "needs_background": "light"
          }
        }
      ]
    },
    {
      "cell_type": "code",
      "source": [],
      "metadata": {
        "id": "iw9J0M3_6aIf"
      },
      "execution_count": 21,
      "outputs": []
    }
  ]
}